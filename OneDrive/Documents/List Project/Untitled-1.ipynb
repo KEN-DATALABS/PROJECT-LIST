{
 "cells": [
  {
   "cell_type": "code",
   "execution_count": 149,
   "id": "d466f92f",
   "metadata": {},
   "outputs": [
    {
     "name": "stdout",
     "output_type": "stream",
     "text": [
      "Main List [1, 2, 3, 4, 5, 6, 7, 8, 9, 10]\n",
      "Countries ('Nigeria', 'Ghana', 'Kenya', 'Togo', 'Benin')\n"
     ]
    }
   ],
   "source": [
    "list1 = [1,2,3,4,5,6,7,8,9,10]\n",
    "print('Main List', list1)\n",
    "tuple1= ('Nigeria', 'Ghana', 'Kenya', 'Togo', 'Benin')\n",
    "print('Countries',tuple1)"
   ]
  },
  {
   "cell_type": "code",
   "execution_count": 150,
   "id": "54796c0c",
   "metadata": {},
   "outputs": [
    {
     "name": "stdout",
     "output_type": "stream",
     "text": [
      "3\n",
      "Kenya\n",
      "10\n"
     ]
    }
   ],
   "source": [
    "print(list1[2])\n",
    "print(tuple1[2])\n",
    "print(list1[-1])"
   ]
  },
  {
   "cell_type": "code",
   "execution_count": 151,
   "id": "186b1d0e",
   "metadata": {},
   "outputs": [
    {
     "name": "stdout",
     "output_type": "stream",
     "text": [
      "[1, 3, 3, 4, 5, 6, 7, 8, 9, 10]\n"
     ]
    },
    {
     "data": {
      "text/plain": [
       "('Nigeria', 'Ghana', 'Kenya')"
      ]
     },
     "execution_count": 151,
     "metadata": {},
     "output_type": "execute_result"
    }
   ],
   "source": [
    "list1[1]=3\n",
    "print(list1)\n",
    "list1[0:5]\n",
    "tuple1[0:3]\n"
   ]
  },
  {
   "cell_type": "code",
   "execution_count": 152,
   "id": "9b1e77c6",
   "metadata": {},
   "outputs": [
    {
     "name": "stdout",
     "output_type": "stream",
     "text": [
      "2 is not in list\n",
      "tuple is a list of countries\n"
     ]
    }
   ],
   "source": [
    "if 2 in list1:\n",
    "    print('yes 3 is in list')\n",
    "else:\n",
    "    print('2 is not in list')\n",
    "\n",
    "if 3 not in tuple1:\n",
    "    print('tuple is a list of countries')\n",
    "else:\n",
    "    print('tuple has a value')"
   ]
  },
  {
   "cell_type": "code",
   "execution_count": 153,
   "id": "a8c4cdbf",
   "metadata": {},
   "outputs": [
    {
     "data": {
      "text/plain": [
       "[1, 5, 3, 3, 4, 5, 6, 7, 8, 9, 10, 11]"
      ]
     },
     "execution_count": 153,
     "metadata": {},
     "output_type": "execute_result"
    }
   ],
   "source": [
    "list1.append(11)\n",
    "list1.insert(1, 5)\n",
    "list1\n"
   ]
  },
  {
   "cell_type": "code",
   "execution_count": 154,
   "id": "47fd15b3",
   "metadata": {},
   "outputs": [
    {
     "data": {
      "text/plain": [
       "[1, 5, 3, 4, 5, 6, 7, 8, 9, 10, 11]"
      ]
     },
     "execution_count": 154,
     "metadata": {},
     "output_type": "execute_result"
    }
   ],
   "source": [
    "list1.remove(3)\n",
    "list1\n"
   ]
  },
  {
   "cell_type": "code",
   "execution_count": 155,
   "id": "0d75b4ec",
   "metadata": {},
   "outputs": [
    {
     "data": {
      "text/plain": [
       "4"
      ]
     },
     "execution_count": 155,
     "metadata": {},
     "output_type": "execute_result"
    }
   ],
   "source": [
    "list1.pop(3)\n"
   ]
  },
  {
   "cell_type": "code",
   "execution_count": 156,
   "id": "d0611235",
   "metadata": {},
   "outputs": [
    {
     "data": {
      "text/plain": [
       "4"
      ]
     },
     "execution_count": 156,
     "metadata": {},
     "output_type": "execute_result"
    }
   ],
   "source": [
    "list1.index(6)"
   ]
  },
  {
   "cell_type": "code",
   "execution_count": 157,
   "id": "ed8dc19f",
   "metadata": {},
   "outputs": [
    {
     "data": {
      "text/plain": [
       "2"
      ]
     },
     "execution_count": 157,
     "metadata": {},
     "output_type": "execute_result"
    }
   ],
   "source": [
    "list1.count(5)"
   ]
  },
  {
   "cell_type": "code",
   "execution_count": 158,
   "id": "d92fef29",
   "metadata": {},
   "outputs": [
    {
     "data": {
      "text/plain": [
       "[1, 3, 5, 5, 6, 7, 8, 9, 10, 11]"
      ]
     },
     "execution_count": 158,
     "metadata": {},
     "output_type": "execute_result"
    }
   ],
   "source": [
    "list1.sort()\n",
    "list1\n"
   ]
  },
  {
   "cell_type": "code",
   "execution_count": 159,
   "id": "0fac0ed7",
   "metadata": {},
   "outputs": [
    {
     "data": {
      "text/plain": [
       "[11, 10, 9, 8, 7, 6, 5, 5, 3, 1]"
      ]
     },
     "execution_count": 159,
     "metadata": {},
     "output_type": "execute_result"
    }
   ],
   "source": [
    "list1.sort(reverse=True)\n",
    "list1\n"
   ]
  },
  {
   "cell_type": "code",
   "execution_count": 160,
   "id": "39773128",
   "metadata": {},
   "outputs": [
    {
     "data": {
      "text/plain": [
       "[1, 3, 5, 5, 6, 7, 8, 9, 10, 11]"
      ]
     },
     "execution_count": 160,
     "metadata": {},
     "output_type": "execute_result"
    }
   ],
   "source": [
    "list1.reverse()\n",
    "list1"
   ]
  },
  {
   "cell_type": "code",
   "execution_count": 161,
   "id": "f88c642a",
   "metadata": {},
   "outputs": [
    {
     "name": "stdout",
     "output_type": "stream",
     "text": [
      "('Nigeria', 'Ghana', 'Kenya', 'Togo', 'Benin') ('USA', 'UK', 'Canada')\n"
     ]
    }
   ],
   "source": [
    "tuple2 = ('USA', 'UK', 'Canada')\n",
    "main= tuple1 + tuple2\n",
    "print(tuple1 , tuple2)"
   ]
  },
  {
   "cell_type": "code",
   "execution_count": 162,
   "id": "5a2c3484",
   "metadata": {},
   "outputs": [
    {
     "name": "stdout",
     "output_type": "stream",
     "text": [
      "boy 5\n"
     ]
    }
   ],
   "source": [
    "var = 'boy'\n",
    "num = 5\n",
    "print(f'{var}',num)"
   ]
  },
  {
   "cell_type": "code",
   "execution_count": 163,
   "id": "24cf69c7",
   "metadata": {},
   "outputs": [
    {
     "name": "stdout",
     "output_type": "stream",
     "text": [
      "('Nigeria', 'Ghana', 'Kenya', 'Togo', 'Benin', 'Nigeria', 'Ghana', 'Kenya', 'Togo', 'Benin', 'Nigeria', 'Ghana', 'Kenya', 'Togo', 'Benin')\n"
     ]
    }
   ],
   "source": [
    "power3= tuple1*3\n",
    "print(power3)"
   ]
  },
  {
   "cell_type": "code",
   "execution_count": 164,
   "id": "378ac737",
   "metadata": {},
   "outputs": [
    {
     "name": "stdout",
     "output_type": "stream",
     "text": [
      "Nigeria\n",
      "Ghana\n",
      "['Kenya', 'Togo', 'Benin']\n",
      "Nigeria Ghana ['Kenya', 'Togo', 'Benin']\n"
     ]
    }
   ],
   "source": [
    "tuple1\n",
    "nig, gh, *keny = tuple1\n",
    "print(nig)\n",
    "print(gh)\n",
    "print(keny)\n",
    "print(nig,gh,keny)"
   ]
  },
  {
   "cell_type": "code",
   "execution_count": 165,
   "id": "418e25a5",
   "metadata": {},
   "outputs": [
    {
     "data": {
      "text/plain": [
       "1"
      ]
     },
     "execution_count": 165,
     "metadata": {},
     "output_type": "execute_result"
    }
   ],
   "source": [
    "tuple1.count('Nigeria')"
   ]
  },
  {
   "cell_type": "code",
   "execution_count": 166,
   "id": "82f84fff",
   "metadata": {},
   "outputs": [
    {
     "data": {
      "text/plain": [
       "2"
      ]
     },
     "execution_count": 166,
     "metadata": {},
     "output_type": "execute_result"
    }
   ],
   "source": [
    "tuple1.index('Kenya')"
   ]
  },
  {
   "cell_type": "code",
   "execution_count": 167,
   "id": "b73b4b16",
   "metadata": {},
   "outputs": [
    {
     "name": "stdout",
     "output_type": "stream",
     "text": [
      "[1, 9, 25, 25, 36, 49, 64, 81, 100, 121]\n"
     ]
    }
   ],
   "source": [
    "list1\n",
    "new_list= [x**2 for x in list1]\n",
    "print(new_list)"
   ]
  },
  {
   "cell_type": "code",
   "execution_count": 168,
   "id": "f0371ebb",
   "metadata": {},
   "outputs": [
    {
     "name": "stdout",
     "output_type": "stream",
     "text": [
      "[2, 4, 6, 8, 10, 12, 14, 16, 18, 20]\n"
     ]
    }
   ],
   "source": [
    "new_list1 = [x for x in range(1,21) if x%2==0]\n",
    "print(new_list1)"
   ]
  },
  {
   "cell_type": "code",
   "execution_count": 169,
   "id": "4915273d",
   "metadata": {},
   "outputs": [
    {
     "data": {
      "text/plain": [
       "['USA', 'UK', 'Canada', 'Germany']"
      ]
     },
     "execution_count": 169,
     "metadata": {},
     "output_type": "execute_result"
    }
   ],
   "source": [
    "tuple1 = ('USA', 'UK', 'Canada')\n",
    "new_tuple = list(tuple1)\n",
    "new_tuple.append('Germany')\n",
    "new_tuple"
   ]
  },
  {
   "cell_type": "code",
   "execution_count": 170,
   "id": "a0640dd6",
   "metadata": {},
   "outputs": [
    {
     "name": "stdout",
     "output_type": "stream",
     "text": [
      "['USA', 'UK', 'Canada', 'Germany', 'France', 'Italy']\n"
     ]
    }
   ],
   "source": [
    "new_tuple.extend(['France', 'Italy'])\n",
    "print(new_tuple)"
   ]
  },
  {
   "cell_type": "code",
   "execution_count": 171,
   "id": "28a9b500",
   "metadata": {},
   "outputs": [
    {
     "name": "stdout",
     "output_type": "stream",
     "text": [
      "(1, 3, 5, 5, 6, 7, 8, 9, 10, 11)\n"
     ]
    }
   ],
   "source": [
    "list1\n",
    "new_list2 = tuple(list1)\n",
    "print(new_list2)"
   ]
  },
  {
   "cell_type": "code",
   "execution_count": 172,
   "id": "46c81727",
   "metadata": {},
   "outputs": [
    {
     "name": "stdout",
     "output_type": "stream",
     "text": [
      "[(1, 1), (2, 4), (3, 9), (4, 16), (5, 25), (6, 36), (7, 49), (8, 64), (9, 81), (10, 100)]\n"
     ]
    }
   ],
   "source": [
    "tuples_list = [(x, x**2) for x in range (1,11)]\n",
    "print(tuples_list)"
   ]
  },
  {
   "cell_type": "code",
   "execution_count": 173,
   "id": "c747f352",
   "metadata": {},
   "outputs": [
    {
     "name": "stdout",
     "output_type": "stream",
     "text": [
      "[1, 2, 3, 4, 5, 6]\n"
     ]
    }
   ],
   "source": [
    "nested_list = [[1,2],[3,4],[5,6]]\n",
    "flat_nest = [items for sublist in nested_list for items in sublist]\n",
    "print(flat_nest)"
   ]
  },
  {
   "cell_type": "code",
   "execution_count": 174,
   "id": "4e8f0475",
   "metadata": {},
   "outputs": [
    {
     "name": "stdout",
     "output_type": "stream",
     "text": [
      "[1, 3, 5, 7, 9, 11, 13, 15, 17, 19]\n"
     ]
    }
   ],
   "source": [
    "odd_list = [x for x in range(1,21) if x%2!=0]\n",
    "print(odd_list)"
   ]
  },
  {
   "cell_type": "code",
   "execution_count": 175,
   "id": "482241bc",
   "metadata": {},
   "outputs": [
    {
     "name": "stdout",
     "output_type": "stream",
     "text": [
      "100\n"
     ]
    }
   ],
   "source": [
    "sum_list = sum(odd_list)\n",
    "print(sum_list)"
   ]
  },
  {
   "cell_type": "code",
   "execution_count": 176,
   "id": "62bad823",
   "metadata": {},
   "outputs": [
    {
     "name": "stdout",
     "output_type": "stream",
     "text": [
      "945\n"
     ]
    }
   ],
   "source": [
    "odd_list = [1,3,5,7,9]\n",
    "a = 1\n",
    "for i in odd_list:\n",
    "    a= a*i\n",
    "print(a)"
   ]
  },
  {
   "cell_type": "code",
   "execution_count": 177,
   "id": "109df275",
   "metadata": {},
   "outputs": [
    {
     "name": "stdout",
     "output_type": "stream",
     "text": [
      "[9, 3, 5, 7, 1]\n"
     ]
    }
   ],
   "source": [
    "odd_list = [1,3,5,7,9]\n",
    "first = odd_list.pop(0)\n",
    "second = odd_list.pop(-1)\n",
    "swap_list =[second] + odd_list + [first]\n",
    "print(swap_list)\n"
   ]
  },
  {
   "cell_type": "code",
   "execution_count": 178,
   "id": "cc8f6934",
   "metadata": {},
   "outputs": [
    {
     "name": "stdout",
     "output_type": "stream",
     "text": [
      "{1, 3, 5, 7, 9}\n"
     ]
    }
   ],
   "source": [
    "merge1 = odd_list + swap_list \n",
    "merge_list = set(merge1)\n",
    "print(merge_list)"
   ]
  },
  {
   "cell_type": "code",
   "execution_count": 179,
   "id": "c7c431d2",
   "metadata": {},
   "outputs": [
    {
     "name": "stdout",
     "output_type": "stream",
     "text": [
      "{3: 2, 5: 2, 7: 2, 9: 1, 1: 1}\n"
     ]
    }
   ],
   "source": [
    "merge1\n",
    "dict = {}\n",
    "for i in merge1:\n",
    "    dict[i]= merge1.count(i)\n",
    "print(dict)\n"
   ]
  },
  {
   "cell_type": "code",
   "execution_count": 180,
   "id": "f22aba0b",
   "metadata": {},
   "outputs": [
    {
     "name": "stdout",
     "output_type": "stream",
     "text": [
      "[1, 2]\n",
      "[3, 4]\n"
     ]
    }
   ],
   "source": [
    "element= [(1,2),(3,4),(5,6)]\n",
    "first_element = list(element[0])\n",
    "second_element = list(element[1])\n",
    "print(first_element)\n",
    "print(second_element)"
   ]
  },
  {
   "cell_type": "code",
   "execution_count": 181,
   "id": "e26b3cdc",
   "metadata": {},
   "outputs": [
    {
     "name": "stdout",
     "output_type": "stream",
     "text": [
      "(4, 5, 3, 4)\n"
     ]
    }
   ],
   "source": [
    "list1= ['main','touch','boy','love']\n",
    "tuple_5=()\n",
    "main = []\n",
    "for key,value in enumerate(list1):\n",
    "    main.append(len(value))\n",
    "    tuple_5 = tuple(main)\n",
    "print(tuple_5)"
   ]
  },
  {
   "cell_type": "code",
   "execution_count": 182,
   "id": "85bdb0fd",
   "metadata": {},
   "outputs": [
    {
     "name": "stdout",
     "output_type": "stream",
     "text": [
      "(4, 5, 3, 4)\n"
     ]
    }
   ],
   "source": [
    "list1= ['main','touch','boy','love']\n",
    "tuple_5= tuple(len(value)for value in list1)\n",
    "print(tuple_5)"
   ]
  },
  {
   "cell_type": "code",
   "execution_count": null,
   "id": "878b35d9",
   "metadata": {},
   "outputs": [],
   "source": []
  }
 ],
 "metadata": {
  "kernelspec": {
   "display_name": "List",
   "language": "python",
   "name": "python3"
  },
  "language_info": {
   "codemirror_mode": {
    "name": "ipython",
    "version": 3
   },
   "file_extension": ".py",
   "mimetype": "text/x-python",
   "name": "python",
   "nbconvert_exporter": "python",
   "pygments_lexer": "ipython3",
   "version": "3.13.9"
  }
 },
 "nbformat": 4,
 "nbformat_minor": 5
}
