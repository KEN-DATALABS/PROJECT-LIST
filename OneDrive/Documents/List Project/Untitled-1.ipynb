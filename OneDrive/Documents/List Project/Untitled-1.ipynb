{
 "cells": [
  {
   "cell_type": "code",
   "execution_count": null,
   "id": "d466f92f",
   "metadata": {},
   "outputs": [],
   "source": [
    "book = 'book'"
   ]
  },
  {
   "cell_type": "code",
   "execution_count": null,
   "id": "54796c0c",
   "metadata": {},
   "outputs": [],
   "source": []
  }
 ],
 "metadata": {
  "language_info": {
   "name": "python"
  }
 },
 "nbformat": 4,
 "nbformat_minor": 5
}
