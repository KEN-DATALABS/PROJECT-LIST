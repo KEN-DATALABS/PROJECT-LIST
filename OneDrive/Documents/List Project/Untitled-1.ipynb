{
 "cells": [
  {
   "cell_type": "code",
   "execution_count": 4,
   "id": "d466f92f",
   "metadata": {},
   "outputs": [
    {
     "name": "stdout",
     "output_type": "stream",
     "text": [
      "Main List [1, 2, 3, 4, 5, 6, 7, 8, 9, 10]\n",
      "Countries ('Nigeria', 'Ghana', 'Kenya', 'Togo', 'Benin')\n"
     ]
    }
   ],
   "source": [
    "list = [1,2,3,4,5,6,7,8,9,10]\n",
    "print('Main List', list)\n",
    "tuple = ('Nigeria', 'Ghana', 'Kenya', 'Togo', 'Benin')\n",
    "print('Countries',tuple)"
   ]
  },
  {
   "cell_type": "code",
   "execution_count": 9,
   "id": "54796c0c",
   "metadata": {},
   "outputs": [
    {
     "name": "stdout",
     "output_type": "stream",
     "text": [
      "3\n",
      "Kenya\n",
      "8\n"
     ]
    }
   ],
   "source": [
    "print(list[2])\n",
    "print(tuple[2])\n",
    "print(list[-1])"
   ]
  },
  {
   "cell_type": "code",
   "execution_count": null,
   "id": "186b1d0e",
   "metadata": {},
   "outputs": [],
   "source": []
  }
 ],
 "metadata": {
  "kernelspec": {
   "display_name": "List",
   "language": "python",
   "name": "python3"
  },
  "language_info": {
   "codemirror_mode": {
    "name": "ipython",
    "version": 3
   },
   "file_extension": ".py",
   "mimetype": "text/x-python",
   "name": "python",
   "nbconvert_exporter": "python",
   "pygments_lexer": "ipython3",
   "version": "3.13.9"
  }
 },
 "nbformat": 4,
 "nbformat_minor": 5
}
