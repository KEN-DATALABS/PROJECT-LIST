{
 "cells": [
  {
   "cell_type": "code",
   "execution_count": null,
   "id": "d466f92f",
   "metadata": {},
   "outputs": [],
   "source": [
    "book = 'book'"
   ]
  },
  {
   "cell_type": "code",
   "execution_count": null,
   "id": "54796c0c",
   "metadata": {},
   "outputs": [],
   "source": [
    "love = 'love'"
   ]
  }
 ],
 "metadata": {
  "language_info": {
   "name": "python"
  }
 },
 "nbformat": 4,
 "nbformat_minor": 5
}
